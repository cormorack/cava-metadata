{
 "cells": [
  {
   "cell_type": "code",
   "execution_count": 1,
   "id": "demographic-person",
   "metadata": {},
   "outputs": [],
   "source": [
    "import json\n",
    "from pathlib import Path\n",
    "from zipfile import ZipFile\n",
    "\n",
    "import geopandas as gpd\n",
    "import pandas as pd"
   ]
  },
  {
   "cell_type": "code",
   "execution_count": 2,
   "id": "superior-defeat",
   "metadata": {},
   "outputs": [],
   "source": [
    "notebooks_folder = Path('.').absolute()"
   ]
  },
  {
   "cell_type": "code",
   "execution_count": 3,
   "id": "following-creation",
   "metadata": {},
   "outputs": [],
   "source": [
    "root_folder = notebooks_folder.parent"
   ]
  },
  {
   "cell_type": "code",
   "execution_count": 4,
   "id": "everyday-double",
   "metadata": {},
   "outputs": [],
   "source": [
    "cable_zip = ZipFile((notebooks_folder / 'source_files' / 'mygeodata.zip'))"
   ]
  },
  {
   "cell_type": "code",
   "execution_count": 5,
   "id": "threaded-prague",
   "metadata": {},
   "outputs": [],
   "source": [
    "cable_json = root_folder / 'app' / 'api' / 'rsn-cable.json'"
   ]
  },
  {
   "cell_type": "code",
   "execution_count": 6,
   "id": "simple-prospect",
   "metadata": {},
   "outputs": [],
   "source": [
    "default_properties = {\n",
    "    \"reference_designator\": \"RS\",\n",
    "    \"array_name\": \"Regional Scale Node\",\n",
    "    \"name\":\"Backbone Cable\",\n",
    "    \"description\":\"Approximately 900 km of primary backbone electro-optical cable have been installed from the Shore Station to the seven Primary Node locations spanning the Juan de Fuca Plate. The cable provides power (10 kV DC, up to 8 A) and communications (10 Gb/s) via fiber-optics and copper between the Primary Nodes and the Shore Station in Pacific City, Oregon.\",\n",
    "    \"image_url\":\"https://s3.us-west-2.amazonaws.com/media.ooica.net/wp-content/uploads/2019/01/03192635/cableacrosscollapse3-300x169.jpg\",\n",
    "    \"wp_url\":\"https://interactiveoceans.washington.edu/technology/cables-connectors/\"\n",
    "}"
   ]
  },
  {
   "cell_type": "code",
   "execution_count": 7,
   "id": "scheduled-knock",
   "metadata": {},
   "outputs": [
    {
     "name": "stdout",
     "output_type": "stream",
     "text": [
      "ce02shsm_riser_cable_alternate_site.geojson\n",
      "ce04ossm_riser_cable_alternate_site.geojson\n",
      "cables.geojson\n",
      "mooring_riser_cable.geojson\n",
      "mooring_riser_cable_dp.geojson\n",
      "mooring_riser_cable_sp.geojson\n",
      "mooring_riser_cables.geojson\n",
      "moorings_cabled.geojson\n",
      "moorings_non_cabled.geojson\n",
      "primary_cable.geojson\n",
      "secondary_cable.geojson\n",
      "secondary_cable_oily.geojson\n"
     ]
    }
   ],
   "source": [
    "cables_gdf = []\n",
    "for zf in filter(lambda f: f.filename.endswith('.geojson'), cable_zip.filelist):\n",
    "    file_name = Path(zf.filename).name.lower()\n",
    "    # Only looks for cable in file name and ignore buried cables.\n",
    "    if ('cable' in file_name) and ('buried' not in file_name):\n",
    "        print(file_name)\n",
    "        geojson_file = cable_zip.open(zf.filename)\n",
    "        gdf = gpd.read_file(geojson_file)\n",
    "        gdf['cable_id'] = 'RSN-Cable'\n",
    "        cables_gdf.append(gdf)"
   ]
  },
  {
   "cell_type": "code",
   "execution_count": 8,
   "id": "working-settle",
   "metadata": {},
   "outputs": [],
   "source": [
    "cable_gdf = pd.concat(cables_gdf).reset_index(drop=['index']).dissolve(by='cable_id')[['geometry']]"
   ]
  },
  {
   "cell_type": "code",
   "execution_count": 9,
   "id": "referenced-algeria",
   "metadata": {},
   "outputs": [],
   "source": [
    "for k,v in default_properties.items():\n",
    "    cable_gdf[k] = v"
   ]
  },
  {
   "cell_type": "code",
   "execution_count": 10,
   "id": "temporal-chambers",
   "metadata": {},
   "outputs": [
    {
     "data": {
      "text/plain": [
       "189343"
      ]
     },
     "execution_count": 10,
     "metadata": {},
     "output_type": "execute_result"
    }
   ],
   "source": [
    "cable_json.write_text(json.dumps(next(cable_gdf.iterfeatures()), indent=2), encoding='utf-8')"
   ]
  },
  {
   "cell_type": "code",
   "execution_count": null,
   "id": "leading-rolling",
   "metadata": {},
   "outputs": [],
   "source": []
  }
 ],
 "metadata": {
  "kernelspec": {
   "display_name": "Python [conda env:cava-metadata]",
   "language": "python",
   "name": "conda-env-cava-metadata-py"
  },
  "language_info": {
   "codemirror_mode": {
    "name": "ipython",
    "version": 3
   },
   "file_extension": ".py",
   "mimetype": "text/x-python",
   "name": "python",
   "nbconvert_exporter": "python",
   "pygments_lexer": "ipython3",
   "version": "3.8.8"
  }
 },
 "nbformat": 4,
 "nbformat_minor": 5
}
